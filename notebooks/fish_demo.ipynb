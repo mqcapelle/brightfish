{
 "cells": [
  {
   "cell_type": "markdown",
   "metadata": {},
   "source": [
    "# **Experimenting on Fish**\n",
    "\n",
    "We showcase various experiments on simulated zebrafish."
   ]
  },
  {
   "cell_type": "markdown",
   "metadata": {},
   "source": [
    "# Imports"
   ]
  },
  {
   "cell_type": "code",
   "execution_count": 9,
   "metadata": {},
   "outputs": [
    {
     "name": "stdout",
     "output_type": "stream",
     "text": [
      "Requirement already satisfied: pip in /Users/mc/PycharmProjects/brightfish/venv/lib/python3.8/site-packages (22.0.2)\r\n",
      "Requirement already satisfied: numpy in /Users/mc/PycharmProjects/brightfish/venv/lib/python3.8/site-packages (1.22.1)\r\n",
      "Requirement already satisfied: matplotlib in /Users/mc/PycharmProjects/brightfish/venv/lib/python3.8/site-packages (3.5.1)\r\n",
      "Requirement already satisfied: scikit-image in /Users/mc/PycharmProjects/brightfish/venv/lib/python3.8/site-packages (0.19.1)\r\n",
      "Requirement already satisfied: fonttools>=4.22.0 in /Users/mc/PycharmProjects/brightfish/venv/lib/python3.8/site-packages (from matplotlib) (4.29.0)\r\n",
      "Requirement already satisfied: pyparsing>=2.2.1 in /Users/mc/PycharmProjects/brightfish/venv/lib/python3.8/site-packages (from matplotlib) (3.0.7)\r\n",
      "Requirement already satisfied: packaging>=20.0 in /Users/mc/PycharmProjects/brightfish/venv/lib/python3.8/site-packages (from matplotlib) (21.3)\r\n",
      "Requirement already satisfied: kiwisolver>=1.0.1 in /Users/mc/PycharmProjects/brightfish/venv/lib/python3.8/site-packages (from matplotlib) (1.3.2)\r\n",
      "Requirement already satisfied: cycler>=0.10 in /Users/mc/PycharmProjects/brightfish/venv/lib/python3.8/site-packages (from matplotlib) (0.11.0)\r\n",
      "Requirement already satisfied: pillow>=6.2.0 in /Users/mc/PycharmProjects/brightfish/venv/lib/python3.8/site-packages (from matplotlib) (9.0.0)\r\n",
      "Requirement already satisfied: python-dateutil>=2.7 in /Users/mc/PycharmProjects/brightfish/venv/lib/python3.8/site-packages (from matplotlib) (2.8.2)\r\n",
      "Requirement already satisfied: tifffile>=2019.7.26 in /Users/mc/PycharmProjects/brightfish/venv/lib/python3.8/site-packages (from scikit-image) (2021.11.2)\r\n",
      "Requirement already satisfied: scipy>=1.4.1 in /Users/mc/PycharmProjects/brightfish/venv/lib/python3.8/site-packages (from scikit-image) (1.7.3)\r\n",
      "Requirement already satisfied: imageio>=2.4.1 in /Users/mc/PycharmProjects/brightfish/venv/lib/python3.8/site-packages (from scikit-image) (2.14.1)\r\n",
      "Requirement already satisfied: networkx>=2.2 in /Users/mc/PycharmProjects/brightfish/venv/lib/python3.8/site-packages (from scikit-image) (2.6.3)\r\n",
      "Requirement already satisfied: PyWavelets>=1.1.1 in /Users/mc/PycharmProjects/brightfish/venv/lib/python3.8/site-packages (from scikit-image) (1.2.0)\r\n",
      "Requirement already satisfied: six>=1.5 in /Users/mc/PycharmProjects/brightfish/venv/lib/python3.8/site-packages (from python-dateutil>=2.7->matplotlib) (1.16.0)\r\n"
     ]
    }
   ],
   "source": [
    "!pip install --upgrade pip\n",
    "!pip install numpy matplotlib scikit-image\n",
    "\n",
    "import numpy as np\n",
    "from matplotlib import pyplot as plt\n",
    "%matplotlib inline\n",
    "\n",
    "import brightfish\n",
    "# import brightfish.environment as environment\n",
    "import brightfish.fish as fish"
   ]
  },
  {
   "cell_type": "markdown",
   "metadata": {},
   "source": [
    "# Sinusoidal Environment"
   ]
  },
  {
   "cell_type": "markdown",
   "metadata": {},
   "source": [
    "First, we'll need to create an environment for the fish to operate in. We'll use the simple 1D sinusoidal environment for now:"
   ]
  },
  {
   "cell_type": "code",
   "execution_count": 10,
   "metadata": {},
   "outputs": [
    {
     "ename": "NameError",
     "evalue": "name 'environment' is not defined",
     "output_type": "error",
     "traceback": [
      "\u001B[0;31m---------------------------------------------------------------------------\u001B[0m",
      "\u001B[0;31mNameError\u001B[0m                                 Traceback (most recent call last)",
      "Input \u001B[0;32mIn [10]\u001B[0m, in \u001B[0;36m<module>\u001B[0;34m\u001B[0m\n\u001B[0;32m----> 1\u001B[0m e \u001B[38;5;241m=\u001B[39m \u001B[43menvironment\u001B[49m\u001B[38;5;241m.\u001B[39mSinusoidalGradient((\u001B[38;5;241m201\u001B[39m, \u001B[38;5;241m201\u001B[39m), static\u001B[38;5;241m=\u001B[39m\u001B[38;5;28;01mTrue\u001B[39;00m)\n\u001B[1;32m      2\u001B[0m fig \u001B[38;5;241m=\u001B[39m plt\u001B[38;5;241m.\u001B[39mfigure(figsize\u001B[38;5;241m=\u001B[39m(\u001B[38;5;241m10\u001B[39m, \u001B[38;5;241m10\u001B[39m))\n\u001B[1;32m      3\u001B[0m plt\u001B[38;5;241m.\u001B[39mimshow(e\u001B[38;5;241m.\u001B[39mstage, cmap\u001B[38;5;241m=\u001B[39m\u001B[38;5;124m'\u001B[39m\u001B[38;5;124mmagma\u001B[39m\u001B[38;5;124m'\u001B[39m, alpha\u001B[38;5;241m=\u001B[39m\u001B[38;5;241m0.7\u001B[39m)\n",
      "\u001B[0;31mNameError\u001B[0m: name 'environment' is not defined"
     ]
    }
   ],
   "source": [
    "e = environment.SinusoidalGradient((201, 201), static=True)\n",
    "fig = plt.figure(figsize=(10, 10))\n",
    "plt.imshow(e.stage, cmap='magma', alpha=0.7)\n",
    "plt.scatter([70], [50], c='r')\n",
    "plt.title(\"sinusoidal environment\")\n",
    "plt.show()"
   ]
  },
  {
   "cell_type": "markdown",
   "metadata": {},
   "source": [
    "Next, we'll have to create a (binocular) fish:"
   ]
  },
  {
   "cell_type": "code",
   "execution_count": 11,
   "metadata": {},
   "outputs": [
    {
     "ename": "TypeError",
     "evalue": "__init__() got an unexpected keyword argument 'turning_cap'",
     "output_type": "error",
     "traceback": [
      "\u001B[0;31m---------------------------------------------------------------------------\u001B[0m",
      "\u001B[0;31mTypeError\u001B[0m                                 Traceback (most recent call last)",
      "Input \u001B[0;32mIn [11]\u001B[0m, in \u001B[0;36m<module>\u001B[0;34m\u001B[0m\n\u001B[0;32m----> 1\u001B[0m f \u001B[38;5;241m=\u001B[39m \u001B[43mfish\u001B[49m\u001B[38;5;241;43m.\u001B[39;49m\u001B[43mBinocularFish\u001B[49m\u001B[43m(\u001B[49m\u001B[43mnp\u001B[49m\u001B[38;5;241;43m.\u001B[39;49m\u001B[43mpi\u001B[49m\u001B[38;5;241;43m/\u001B[39;49m\u001B[38;5;241;43m4\u001B[39;49m\u001B[43m,\u001B[49m\u001B[43m \u001B[49m\u001B[43m[\u001B[49m\u001B[38;5;241;43m50\u001B[39;49m\u001B[43m,\u001B[49m\u001B[43m \u001B[49m\u001B[38;5;241;43m70\u001B[39;49m\u001B[43m]\u001B[49m\u001B[43m,\u001B[49m\u001B[43m \u001B[49m\u001B[43mturning_cap\u001B[49m\u001B[38;5;241;43m=\u001B[39;49m\u001B[38;5;241;43m0.5\u001B[39;49m\u001B[43m,\u001B[49m\u001B[43m \u001B[49m\u001B[43mturning_rate\u001B[49m\u001B[38;5;241;43m=\u001B[39;49m\u001B[38;5;241;43m5e-2\u001B[39;49m\u001B[43m,\u001B[49m\u001B[43m \u001B[49m\u001B[43mp_move\u001B[49m\u001B[38;5;241;43m=\u001B[39;49m\u001B[38;5;241;43m0.2\u001B[39;49m\u001B[43m,\u001B[49m\u001B[43m \u001B[49m\u001B[43mmove_distance\u001B[49m\u001B[38;5;241;43m=\u001B[39;49m\u001B[38;5;241;43m5.0\u001B[39;49m\u001B[43m)\u001B[49m\n\u001B[1;32m      2\u001B[0m \u001B[38;5;28mprint\u001B[39m(f)\n",
      "\u001B[0;31mTypeError\u001B[0m: __init__() got an unexpected keyword argument 'turning_cap'"
     ]
    }
   ],
   "source": [
    "f = fish.BinocularFish(np.pi/4, [50, 70], turning_cap=0.5, turning_rate=5e-2, p_move=0.2, move_distance=5.0)\n",
    "print(f)"
   ]
  },
  {
   "cell_type": "markdown",
   "metadata": {},
   "source": [
    "Now that we have a fish, we can allow the fish to simulate some time in the environment and observe the change in parameters:"
   ]
  },
  {
   "cell_type": "code",
   "execution_count": null,
   "metadata": {},
   "outputs": [],
   "source": [
    "timesteps = 1000\n",
    "params = f.run(e, timesteps)"
   ]
  },
  {
   "cell_type": "code",
   "execution_count": null,
   "metadata": {},
   "outputs": [],
   "source": [
    "fig, axs = plt.subplots(1, 2, figsize=(10, 4))\n",
    "axs[0].plot(np.arange(timesteps+1), params[:,3], label=\"set point\")\n",
    "axs[0].plot(np.arange(timesteps+1), params[:,4], label=r\"$p_{left}$\")\n",
    "axs[0].plot(np.arange(timesteps+1), params[:,5], label=r\"$p_{right}$\")\n",
    "axs[0].plot(np.arange(timesteps+1), params[:,6], label=r\"$p_{noturn}$\")\n",
    "axs[0].set_ylim(0, 1.0)\n",
    "axs[0].set_title(\"simulated binocular fish parameters\")\n",
    "axs[0].set_xlabel(\"time steps\")\n",
    "axs[0].set_ylabel(\"probability/intensity\")\n",
    "axs[0].legend()\n",
    "axs[1].plot(np.arange(timesteps+1), params[:,0], label=\"heading\")\n",
    "axs[1].set_title(\"simulated binocular fish heading\")\n",
    "axs[1].set_xlabel(\"time steps\")\n",
    "axs[1].set_ylabel(r\"heading ($radians$)\")\n",
    "fig.tight_layout()\n",
    "plt.show()\n",
    "\n",
    "fig = plt.figure(figsize=(10, 10))\n",
    "plt.imshow(e.stage, cmap='magma', alpha=0.7)\n",
    "plt.plot(params[:,2], params[:,1], marker='o', color='r', linewidth=1.0)\n",
    "plt.title(\"path\")\n",
    "plt.show()"
   ]
  },
  {
   "cell_type": "markdown",
   "metadata": {},
   "source": [
    "We can also create a monocular fish and observe the difference in behavior:"
   ]
  },
  {
   "cell_type": "code",
   "execution_count": null,
   "metadata": {},
   "outputs": [],
   "source": [
    "f = fish.MonocularFish(np.pi/4, [50, 70], turning_cap=0.5, turning_rate=5e-2, p_move=0.2, move_distance=5.0)\n",
    "print(f)"
   ]
  },
  {
   "cell_type": "code",
   "execution_count": null,
   "metadata": {},
   "outputs": [],
   "source": [
    "timesteps = 1000\n",
    "params = f.run(e, timesteps)"
   ]
  },
  {
   "cell_type": "code",
   "execution_count": null,
   "metadata": {},
   "outputs": [],
   "source": [
    "fig, axs = plt.subplots(1, 2, figsize=(10, 4))\n",
    "axs[0].plot(np.arange(timesteps+1), params[:,3], label=\"set point (left)\")\n",
    "axs[0].plot(np.arange(timesteps+1), params[:,4], label=\"set point (right)\")\n",
    "axs[0].plot(np.arange(timesteps+1), params[:,5], label=r\"$p_{left}$\")\n",
    "axs[0].plot(np.arange(timesteps+1), params[:,6], label=r\"$p_{right}$\")\n",
    "axs[0].plot(np.arange(timesteps+1), params[:,7], label=r\"$p_{noturn}$\")\n",
    "axs[0].set_ylim(0, 1.0)\n",
    "axs[0].set_title(\"simulated monocular fish parameters\")\n",
    "axs[0].set_xlabel(\"time steps\")\n",
    "axs[0].set_ylabel(\"probability/intensity\")\n",
    "axs[0].legend()\n",
    "axs[1].plot(np.arange(timesteps+1), params[:,0], label=\"heading\")\n",
    "axs[1].set_title(\"simulated monocular fish heading\")\n",
    "axs[1].set_xlabel(\"time steps\")\n",
    "axs[1].set_ylabel(r\"heading ($radians$)\")\n",
    "fig.tight_layout()\n",
    "plt.show()\n",
    "\n",
    "fig = plt.figure(figsize=(10, 10))\n",
    "plt.imshow(e.stage, cmap='magma', alpha=0.7)\n",
    "plt.plot(params[:,2], params[:,1], marker='o', color='r', linewidth=1.0)\n",
    "plt.title(\"path\")\n",
    "plt.show()"
   ]
  },
  {
   "cell_type": "code",
   "execution_count": null,
   "metadata": {},
   "outputs": [],
   "source": []
  }
 ],
 "metadata": {
  "kernelspec": {
   "display_name": "Python 3",
   "language": "python",
   "name": "python3"
  },
  "language_info": {
   "codemirror_mode": {
    "name": "ipython",
    "version": 3
   },
   "file_extension": ".py",
   "mimetype": "text/x-python",
   "name": "python",
   "nbconvert_exporter": "python",
   "pygments_lexer": "ipython3",
   "version": "3.7.7"
  }
 },
 "nbformat": 4,
 "nbformat_minor": 2
}